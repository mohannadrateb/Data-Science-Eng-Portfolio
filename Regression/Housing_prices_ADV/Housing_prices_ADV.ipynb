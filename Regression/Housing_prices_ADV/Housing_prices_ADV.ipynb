{
 "cells": [
  {
   "cell_type": "markdown",
   "metadata": {},
   "source": [
    "### The First cell will always contains the libraries that i used to solve different problems so that it is organized\n"
   ]
  },
  {
   "cell_type": "code",
   "execution_count": 1,
   "metadata": {},
   "outputs": [],
   "source": [
    "import pandas as pd\n",
    "import os\n",
    "import seaborn as sns\n",
    "import matplotlib.pyplot as plt\n",
    "\n"
   ]
  },
  {
   "cell_type": "markdown",
   "metadata": {},
   "source": [
    "### Data Exploration"
   ]
  },
  {
   "cell_type": "code",
   "execution_count": 3,
   "metadata": {},
   "outputs": [],
   "source": [
    "def read_diff_files(data_dir, train_file, test_file,sample_submission):\n",
    "    current_directory = os.getcwd()\n",
    "    path_to_data = current_directory + data_dir  \n",
    "    df_train = pd.read_csv(path_to_data + train_file)\n",
    "    df_test = pd.read_csv(path_to_data+test_file)\n",
    "    df_sam_subm = pd.read_csv(path_to_data+sample_submission)  \n",
    "    return df_train,df_test,df_sam_subm\n",
    "\n",
    "df_train,df_test,df_sam_subm = read_diff_files(data_dir = \"/Data\",train_file = \"/train.csv\", test_file =\"/test.csv\", sample_submission = \"/sample_submission.csv\")"
   ]
  },
  {
   "cell_type": "markdown",
   "metadata": {},
   "source": [
    "### Check Null Values\n",
    "1. Check the percentage of missing values and what columns \n",
    "2. See the importance of that columns \n",
    "3. Check Imputation Method\n",
    "4. Do Visulatizations    "
   ]
  },
  {
   "cell_type": "code",
   "execution_count": 9,
   "metadata": {},
   "outputs": [
    {
     "name": "stdout",
     "output_type": "stream",
     "text": [
      "------------This is different dataset Info ---------------\n",
      "<class 'pandas.core.frame.DataFrame'>\n",
      "RangeIndex: 1460 entries, 0 to 1459\n",
      "Data columns (total 81 columns):\n",
      " #   Column         Non-Null Count  Dtype  \n",
      "---  ------         --------------  -----  \n",
      " 0   Id             1460 non-null   int64  \n",
      " 1   MSSubClass     1460 non-null   int64  \n",
      " 2   MSZoning       1460 non-null   object \n",
      " 3   LotFrontage    1201 non-null   float64\n",
      " 4   LotArea        1460 non-null   int64  \n",
      " 5   Street         1460 non-null   object \n",
      " 6   Alley          91 non-null     object \n",
      " 7   LotShape       1460 non-null   object \n",
      " 8   LandContour    1460 non-null   object \n",
      " 9   Utilities      1460 non-null   object \n",
      " 10  LotConfig      1460 non-null   object \n",
      " 11  LandSlope      1460 non-null   object \n",
      " 12  Neighborhood   1460 non-null   object \n",
      " 13  Condition1     1460 non-null   object \n",
      " 14  Condition2     1460 non-null   object \n",
      " 15  BldgType       1460 non-null   object \n",
      " 16  HouseStyle     1460 non-null   object \n",
      " 17  OverallQual    1460 non-null   int64  \n",
      " 18  OverallCond    1460 non-null   int64  \n",
      " 19  YearBuilt      1460 non-null   int64  \n",
      " 20  YearRemodAdd   1460 non-null   int64  \n",
      " 21  RoofStyle      1460 non-null   object \n",
      " 22  RoofMatl       1460 non-null   object \n",
      " 23  Exterior1st    1460 non-null   object \n",
      " 24  Exterior2nd    1460 non-null   object \n",
      " 25  MasVnrType     1452 non-null   object \n",
      " 26  MasVnrArea     1452 non-null   float64\n",
      " 27  ExterQual      1460 non-null   object \n",
      " 28  ExterCond      1460 non-null   object \n",
      " 29  Foundation     1460 non-null   object \n",
      " 30  BsmtQual       1423 non-null   object \n",
      " 31  BsmtCond       1423 non-null   object \n",
      " 32  BsmtExposure   1422 non-null   object \n",
      " 33  BsmtFinType1   1423 non-null   object \n",
      " 34  BsmtFinSF1     1460 non-null   int64  \n",
      " 35  BsmtFinType2   1422 non-null   object \n",
      " 36  BsmtFinSF2     1460 non-null   int64  \n",
      " 37  BsmtUnfSF      1460 non-null   int64  \n",
      " 38  TotalBsmtSF    1460 non-null   int64  \n",
      " 39  Heating        1460 non-null   object \n",
      " 40  HeatingQC      1460 non-null   object \n",
      " 41  CentralAir     1460 non-null   object \n",
      " 42  Electrical     1459 non-null   object \n",
      " 43  1stFlrSF       1460 non-null   int64  \n",
      " 44  2ndFlrSF       1460 non-null   int64  \n",
      " 45  LowQualFinSF   1460 non-null   int64  \n",
      " 46  GrLivArea      1460 non-null   int64  \n",
      " 47  BsmtFullBath   1460 non-null   int64  \n",
      " 48  BsmtHalfBath   1460 non-null   int64  \n",
      " 49  FullBath       1460 non-null   int64  \n",
      " 50  HalfBath       1460 non-null   int64  \n",
      " 51  BedroomAbvGr   1460 non-null   int64  \n",
      " 52  KitchenAbvGr   1460 non-null   int64  \n",
      " 53  KitchenQual    1460 non-null   object \n",
      " 54  TotRmsAbvGrd   1460 non-null   int64  \n",
      " 55  Functional     1460 non-null   object \n",
      " 56  Fireplaces     1460 non-null   int64  \n",
      " 57  FireplaceQu    770 non-null    object \n",
      " 58  GarageType     1379 non-null   object \n",
      " 59  GarageYrBlt    1379 non-null   float64\n",
      " 60  GarageFinish   1379 non-null   object \n",
      " 61  GarageCars     1460 non-null   int64  \n",
      " 62  GarageArea     1460 non-null   int64  \n",
      " 63  GarageQual     1379 non-null   object \n",
      " 64  GarageCond     1379 non-null   object \n",
      " 65  PavedDrive     1460 non-null   object \n",
      " 66  WoodDeckSF     1460 non-null   int64  \n",
      " 67  OpenPorchSF    1460 non-null   int64  \n",
      " 68  EnclosedPorch  1460 non-null   int64  \n",
      " 69  3SsnPorch      1460 non-null   int64  \n",
      " 70  ScreenPorch    1460 non-null   int64  \n",
      " 71  PoolArea       1460 non-null   int64  \n",
      " 72  PoolQC         7 non-null      object \n",
      " 73  Fence          281 non-null    object \n",
      " 74  MiscFeature    54 non-null     object \n",
      " 75  MiscVal        1460 non-null   int64  \n",
      " 76  MoSold         1460 non-null   int64  \n",
      " 77  YrSold         1460 non-null   int64  \n",
      " 78  SaleType       1460 non-null   object \n",
      " 79  SaleCondition  1460 non-null   object \n",
      " 80  SalePrice      1460 non-null   int64  \n",
      "dtypes: float64(3), int64(35), object(43)\n",
      "memory usage: 924.0+ KB\n",
      "None\n",
      "---------------------------------------------------------\n",
      "----------Those are the columns with null values and the percentage-------------\n",
      "LotFrontage     17.739726\n",
      "Alley           93.767123\n",
      "MasVnrType       0.547945\n",
      "MasVnrArea       0.547945\n",
      "BsmtQual         2.534247\n",
      "BsmtCond         2.534247\n",
      "BsmtExposure     2.602740\n",
      "BsmtFinType1     2.534247\n",
      "BsmtFinType2     2.602740\n",
      "Electrical       0.068493\n",
      "FireplaceQu     47.260274\n",
      "GarageType       5.547945\n",
      "GarageYrBlt      5.547945\n",
      "GarageFinish     5.547945\n",
      "GarageQual       5.547945\n",
      "GarageCond       5.547945\n",
      "PoolQC          99.520548\n",
      "Fence           80.753425\n",
      "MiscFeature     96.301370\n",
      "dtype: float64\n",
      "-------------------------------------------------------------------\n",
      "----------Those are the Data types in the training dataset-------------\n",
      "[dtype('float64'), dtype('int64'), dtype('O')]\n",
      "-------------------------------------------------------------------\n",
      "--------------This is the size of the Dataframe----------------\n",
      "(1460, 81)\n",
      "-----------------------------------------------------------------\n"
     ]
    }
   ],
   "source": [
    "def data_explortation(dataframe):\n",
    "    print(\"------------This is different dataset Info ---------------\")\n",
    "    print(dataframe.info())\n",
    "    print(\"---------------------------------------------------------\")\n",
    "    null_counts = dataframe.isnull().sum()\n",
    "    null_percentage = (null_counts/len(dataframe))* 100\n",
    "    columns_with_null_percentage = null_percentage[null_percentage > 0]\n",
    "    print(\"----------Those are the columns with null values and the percentage-------------\")\n",
    "    print(columns_with_null_percentage)\n",
    "    print(\"-------------------------------------------------------------------\")\n",
    "    print(\"----------Those are the Data types in the training dataset-------------\")\n",
    "    data_types = list(set(dataframe.dtypes.tolist())) \n",
    "    print(data_types)\n",
    "    print(\"-------------------------------------------------------------------\")\n",
    "    print(\"--------------This is the size of the Dataframe----------------\")\n",
    "    print(dataframe.shape)\n",
    "    print(\"-----------------------------------------------------------------\")\n",
    "\n",
    "    return columns_with_null_percentage, data_types \n",
    "    # Filter columns with null values\n",
    "cols_with_null_perc,date_types_df = data_explortation(df_train)    \n"
   ]
  },
  {
   "cell_type": "markdown",
   "metadata": {},
   "source": [
    "### Check missing values and how to handle them"
   ]
  },
  {
   "cell_type": "code",
   "execution_count": 20,
   "metadata": {},
   "outputs": [],
   "source": [
    "cols_with_null_perc = cols_with_null_perc.sort_values(ascending=False)\n",
    "categorical_features = df_train.select_dtypes(include=['object'])\n",
    "int_numeric_features = df_train.select_dtypes(include=['int64'])\n",
    "float_numeric_features = df_train.select_dtypes(include=['float64'])\n"
   ]
  },
  {
   "cell_type": "code",
   "execution_count": 24,
   "metadata": {},
   "outputs": [
    {
     "name": "stdout",
     "output_type": "stream",
     "text": [
      "Number of categorial features:43 \n",
      "Number of numeric features:35\n",
      "num_of_float_features:3\n"
     ]
    }
   ],
   "source": [
    "def features_types(data_frame):\n",
    "    categorical_features = data_frame.select_dtypes(include=['object'])\n",
    "    int_numeric_features = data_frame.select_dtypes(include=['int64'])\n",
    "    float_numeric_features = data_frame.select_dtypes(include=['float64'])\n",
    "\n",
    "    num_of_categorial_features = categorical_features.shape[1]\n",
    "    num_of_numeric_features = int_numeric_features.shape[1]\n",
    "    num_of_float_features = float_numeric_features.shape[1]\n",
    "    \n",
    "    print(f\"Number of categorial features:{num_of_categorial_features} \")\n",
    "    print(f\"Number of numeric features:{num_of_numeric_features}\")\n",
    "    print(f\"num_of_float_features:{num_of_float_features}\")\n",
    "    return categorical_features,int_numeric_features,float_numeric_features\n",
    "features_types(df_train)    \n"
   ]
  },
  {
   "cell_type": "markdown",
   "metadata": {},
   "source": [
    "### Check the missing values according the feature type\n",
    " "
   ]
  },
  {
   "cell_type": "code",
   "execution_count": 29,
   "metadata": {},
   "outputs": [
    {
     "name": "stdout",
     "output_type": "stream",
     "text": [
      "The number of nulls in categorical \n",
      "PoolQC          99.520548\n",
      "MiscFeature     96.301370\n",
      "Alley           93.767123\n",
      "Fence           80.753425\n",
      "FireplaceQu     47.260274\n",
      "GarageType       5.547945\n",
      "GarageFinish     5.547945\n",
      "GarageQual       5.547945\n",
      "GarageCond       5.547945\n",
      "BsmtExposure     2.602740\n",
      "BsmtFinType2     2.602740\n",
      "BsmtQual         2.534247\n",
      "BsmtCond         2.534247\n",
      "BsmtFinType1     2.534247\n",
      "MasVnrType       0.547945\n",
      "Electrical       0.068493\n",
      "dtype: float64\n",
      "--------------------------------------------------------------\n",
      "The number of nulls in Numeric \n",
      "Series([], dtype: float64)\n",
      "--------------------------------------------------------------\n",
      "The number of nulls in Float \n",
      "LotFrontage    17.739726\n",
      "GarageYrBlt     5.547945\n",
      "MasVnrArea      0.547945\n",
      "dtype: float64\n"
     ]
    }
   ],
   "source": [
    "def check_missing_vlaues_per_data_type(feature_type_df,datatype):\n",
    "    print(f\"The number of nulls in {datatype} \")\n",
    "    #print(feature_type_df.isnull().sum())\n",
    "    null_counts = feature_type_df.isnull().sum()\n",
    "    null_percentage = (null_counts/len(feature_type_df))* 100\n",
    "    columns_with_null_percentage = null_percentage[null_percentage > 0].sort_values(ascending=False)\n",
    "    print(columns_with_null_percentage)\n",
    "\n",
    "check_missing_vlaues_per_data_type(categorical_features,\"categorical\")\n",
    "print(\"--------------------------------------------------------------\")\n",
    "check_missing_vlaues_per_data_type(int_numeric_features,\"Numeric\")\n",
    "print(\"--------------------------------------------------------------\")\n",
    "check_missing_vlaues_per_data_type(float_numeric_features, \"Float\")"
   ]
  },
  {
   "cell_type": "markdown",
   "metadata": {},
   "source": [
    "### From the above info we can conclude that\n",
    "1. The most missing info is from the categorical Features, the feature with most missing values has missing vales percntage of 99.5%\n",
    "2. There are no missing info from numeric features, \n",
    "3. There are missing info from float but not that big, he feature with most missing values has missing vales percntage of 17.7%"
   ]
  }
 ],
 "metadata": {
  "kernelspec": {
   "display_name": "Python 3",
   "language": "python",
   "name": "python3"
  },
  "language_info": {
   "codemirror_mode": {
    "name": "ipython",
    "version": 3
   },
   "file_extension": ".py",
   "mimetype": "text/x-python",
   "name": "python",
   "nbconvert_exporter": "python",
   "pygments_lexer": "ipython3",
   "version": "3.7.9"
  }
 },
 "nbformat": 4,
 "nbformat_minor": 2
}
