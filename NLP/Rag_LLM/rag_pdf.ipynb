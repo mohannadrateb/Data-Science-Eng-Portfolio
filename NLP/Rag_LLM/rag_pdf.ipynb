{
 "cells": [
  {
   "cell_type": "markdown",
   "metadata": {},
   "source": [
    "### Creating a Rag system using llama index to query different pdf files\n",
    "- The data is stored in the Data directory\n",
    "- Inside the Data directory there exists 2 papers about few shot learning\n",
    "- There is a .env file in my local directory that holds the OpenAI_API_KEY\n",
    "\n",
    "\n"
   ]
  },
  {
   "cell_type": "code",
   "execution_count": 2,
   "metadata": {},
   "outputs": [],
   "source": [
    "import os\n",
    "import os.path\n",
    "from dotenv import load_dotenv\n",
    "from llama_index.core import(   \n",
    "VectorStoreIndex, \n",
    "SimpleDirectoryReader,\n",
    "StorageContext,\n",
    "load_index_from_storage,\n",
    ")\n",
    "from llama_index.core.retrievers import VectorIndexRetriever\n",
    "from llama_index.core.query_engine import RetrieverQueryEngine\n",
    "from llama_index.core.indices.postprocessor import SimilarityPostprocessor\n",
    "from llama_index.core.response.pprint_utils import pprint_response"
   ]
  },
  {
   "cell_type": "code",
   "execution_count": 3,
   "metadata": {},
   "outputs": [
    {
     "name": "stderr",
     "output_type": "stream",
     "text": [
      "/Users/mohannadrateb/Desktop/portfolio/Port_projects/Data-Science-Eng-Portfolio/NLP/Rag_LLM/venv/lib/python3.9/site-packages/tqdm/auto.py:21: TqdmWarning: IProgress not found. Please update jupyter and ipywidgets. See https://ipywidgets.readthedocs.io/en/stable/user_install.html\n",
      "  from .autonotebook import tqdm as notebook_tqdm\n",
      "Parsing nodes: 100%|██████████| 300/300 [00:00<00:00, 404.08it/s]\n",
      "Generating embeddings: 100%|██████████| 390/390 [00:12<00:00, 31.05it/s]\n"
     ]
    }
   ],
   "source": [
    "# loading the env file and variables \n",
    "def reading_indexing_files(data_dir,API_KEY_NAME):\n",
    "    #loading the env variables from the .env file\n",
    "    load_dotenv()\n",
    "    #setting up the OPENAI_API_KEY\n",
    "    os.environ[\"OPENAI_API_KEY\"]= os.getenv(API_KEY_NAME)\n",
    "    #read the different files in the Data directory and creating the meta data\n",
    "    files = SimpleDirectoryReader(data_dir).load_data()\n",
    "    #creating the indicies for those files\n",
    "    index = VectorStoreIndex.from_documents(files,show_progress= True)\n",
    "    #returning the different files and the corresponding indices for further use\n",
    "    return files, index\n",
    "files,index = reading_indexing_files(data_dir =\"Data\",API_KEY_NAME = \"API_KEY\" )\n"
   ]
  },
  {
   "cell_type": "markdown",
   "metadata": {},
   "source": [
    "### Setting up the query engine and its paramters:\n",
    "- The retriever paramters takes as paramters the index of the files as well as the number of top answers we want the retriever to get back\n",
    "- The postprocessor handles till what percentage of similarity does we want the retriever to bring back\n",
    "- The query engine uses the above \n"
   ]
  },
  {
   "cell_type": "code",
   "execution_count": 4,
   "metadata": {},
   "outputs": [],
   "source": [
    "def setting_query_engine(index,similarity_top_k,similarity_cutoff):\n",
    "    retriever = VectorIndexRetriever(index = index, similarity_top_k = similarity_top_k )\n",
    "    postprocessor = SimilarityPostprocessor(similarity_cutoff = similarity_cutoff )\n",
    "    query_engine = RetrieverQueryEngine(retriever = retriever, node_postprocessors= [postprocessor])\n",
    "    return query_engine\n",
    "query_engine = setting_query_engine(index,4,0.80)"
   ]
  },
  {
   "cell_type": "markdown",
   "metadata": {},
   "source": [
    "### Handling a query through the quesry engine\n",
    "#### Method querying_read_from_storage\n",
    "- Takes as a parmater the storage directory where the indices of the files are gonna be stored on the hard disk rather than the memory so the memory don't get exhuased if we have a lot of files\n",
    "- If the storage dir is found then we load from it else we create it and save the indices in it\n",
    "- Then use the query engine we created, with the wanted paramters and running the query"
   ]
  },
  {
   "cell_type": "code",
   "execution_count": 5,
   "metadata": {},
   "outputs": [
    {
     "name": "stdout",
     "output_type": "stream",
     "text": [
      "Final Response: Few-shot learning (FSL) is a learning method that\n",
      "involves rapidly acquiring valid information from just a few or even\n",
      "zero samples. It is inspired by human reasoning capabilities and is\n",
      "commonly found in edge computing scenarios. FSL aims to address the\n",
      "challenge of effectively learning from small sample datasets or cross-\n",
      "domain scenarios.\n",
      "______________________________________________________________________\n",
      "Source Node 1/4\n",
      "Node ID: 930d1281-0835-4f77-ac6b-36a2a4c3d5c6\n",
      "Similarity: 0.8668009876908989\n",
      "Text: 3 TABLE 2 A List Of Key Acronyms NOMENCLATURE Full Form\n",
      "Abbreviation Full Form Abbreviation Artiﬁcial Intelligence AI Few-Shot\n",
      "Learning FSL Deep Learning DL Machine Learning ML Zero-Shot Learning\n",
      "ZSL One-Shot Learning OSL Neural Architecture Search NAS Conventional\n",
      "Neural Network CNN K-NearestNeighbor KNN Support Vector Machine SVM\n",
      "Nearestcentro...\n",
      "______________________________________________________________________\n",
      "Source Node 2/4\n",
      "Node ID: 56f26db1-9600-4249-b68c-256c55509c8a\n",
      "Similarity: 0.8632880621838525\n",
      "Text: 1 A Comprehensive Survey of Few-shot Learning: Evolution,\n",
      "Applications, Challenges, and Opportunities Yisheng Song, Ting Wang∗,\n",
      "Subrota K Mondal, Jyoti Prakash Sahoo Abstract —Few-shot learning\n",
      "(FSL) has emerged as an effective learning method and shows great\n",
      "potential. Despite the recent creative works in tackling FSL tasks,\n",
      "learning valid info...\n",
      "______________________________________________________________________\n",
      "Source Node 3/4\n",
      "Node ID: c110a836-1133-49fa-abdd-4ab631172034\n",
      "Similarity: 0.8608010472376116\n",
      "Text: 23 IEEE conference oncomputer vision and pattern recognition,\n",
      "pages 3128–3137, 2015. [161] Peyman Bateni, Raghav Goyal, Vaden\n",
      "Masrani, Frank Wood, and Leonid Sigal. Improved few-shot visual\n",
      "classiﬁcation. In Proceedings oftheIEEE/CVF Conference onComputer\n",
      "Vision and Pattern Recognition, pages 14493–14502, 2020. [162] Dong\n",
      "Hoon Lee and Sae-Young ...\n",
      "______________________________________________________________________\n",
      "Source Node 4/4\n",
      "Node ID: 524e283d-42f1-43d2-ba92-3da138962e94\n",
      "Similarity: 0.8555227277946711\n",
      "Text: Metafun: Meta-learning with iterative functional updates. In\n",
      "International Conference onMachine Learning, pages 10617–10627. PMLR,\n",
      "2020. [184] Jialin Liu, Fei Chao, and Chih-Min Lin. Task augmentation\n",
      "by rotating for meta-learning. arXiv preprint arXiv:2003.00804, 2020.\n",
      "[185] Liang Song, Jinlu Liu, and Yongqiang Qin. Generalized adapta-\n",
      "tion for...\n"
     ]
    }
   ],
   "source": [
    "# check if storage already exists\n",
    "def querying_read_from_storage(storage_dir,index,query_engine,query):\n",
    "    storage_dir = storage_dir\n",
    "    if not os.path.exists(storage_dir):\n",
    "        index.storage_context.persist(persist_dir=storage_dir)\n",
    "    else:\n",
    "        # load the existing index\n",
    "        storage_context = StorageContext.from_defaults(persist_dir=storage_dir)\n",
    "        index = load_index_from_storage(storage_context)\n",
    "\n",
    "    # either way we can now query the index\n",
    "    query_engine = query_engine\n",
    "    response = query_engine.query(query)\n",
    "    return response\n",
    "response = querying_read_from_storage(storage_dir=\"./storage\",index= index,query_engine=query_engine,query = \"Explain Few SHot Learning?\" )\n",
    "pprint_response(response,show_source= True)"
   ]
  },
  {
   "cell_type": "code",
   "execution_count": 6,
   "metadata": {},
   "outputs": [
    {
     "name": "stdout",
     "output_type": "stream",
     "text": [
      "Final Response: The effect of impact angle on the secondary droplets\n",
      "at high impact velocity is that it affects the shape and droplet size\n",
      "distribution, while the velocity of the ejected droplets remains\n",
      "constant in the azimuthal direction.\n",
      "______________________________________________________________________\n",
      "Source Node 1/4\n",
      "Node ID: 70efba66-f565-414c-9b21-395633a6fac7\n",
      "Similarity: 0.9185320029897003\n",
      "Text: ILASS–Europe 2019, 29th Conference on Liquid Atomization and\n",
      "Spray Systems, 2-4 September 2019, Paris, France The Effect of Impact\n",
      "Angle on the Secondary Droplets at High Impact Velocity David A.\n",
      "Burzynski∗, Stephan E. Bansmer Technische Universität Braunschweig,\n",
      "Institute of Fluid Mechanics, Braunschweig, Germany *Corresponding\n",
      "author: d.burzyn...\n",
      "______________________________________________________________________\n",
      "Source Node 2/4\n",
      "Node ID: 7ac6938b-c60a-4489-9c96-c856d359c183\n",
      "Similarity: 0.9046166471970942\n",
      "Text: (a) demonstrates the effect of the impact angle on the secondary\n",
      "droplet velocity. (b) shows the effect of the impact velocity on the\n",
      "velocity of secondary droplets for ethanol droplets. The standard\n",
      "deviation of each marker decreases by increasing the droplet diameter\n",
      "from ±2to±0.5. The lines represent our approach for φ=π(dash-dotted)\n",
      "and φ=π(...\n",
      "______________________________________________________________________\n",
      "Source Node 3/4\n",
      "Node ID: b802101d-e5de-4ab0-b1b1-513a3bf27329\n",
      "Similarity: 0.8995856828752742\n",
      "Text: See discussions, st ats, and author pr ofiles f or this public\n",
      "ation at : https://www .researchgate.ne t/public ation/335688451 The\n",
      "Effect of Impact Angle on the Secondary Droplets at High Impact\n",
      "Velocity Conf erence Paper  · Sept ember 2019 CITATION 1READS 142 2\n",
      "author s, including: David Bur zynski Coldsense T echnologies 9\n",
      "PUBLICA TIONS    20...\n",
      "______________________________________________________________________\n",
      "Source Node 4/4\n",
      "Node ID: 4eaf17fe-8d20-40d2-9c96-3fd236877fa9\n",
      "Similarity: 0.8961344015522438\n",
      "Text: ILASS – Europe 2019, 2-4 Sep. 2019, Paris, France In this study,\n",
      "we analyze the ejected secondary droplets to understand how the impact\n",
      "angle affects the splashing. The ﬁrst part focuses on the mechanism\n",
      "responsible for the generation of secondary droplets from a\n",
      "theoretical point of view. Here, we propose a new approach to handle\n",
      "the oblique im...\n"
     ]
    }
   ],
   "source": [
    "response = querying_read_from_storage(storage_dir=\"./storage\",index= index,query_engine=query_engine,query = \"What is the Effect of Impact Angle on the Secondary Droplets at High Impact Velocity?\" )\n",
    "pprint_response(response,show_source= True)"
   ]
  },
  {
   "cell_type": "code",
   "execution_count": 7,
   "metadata": {},
   "outputs": [
    {
     "name": "stdout",
     "output_type": "stream",
     "text": [
      "Final Response: The impact of high-speed drops on dry and wetted\n",
      "surfaces is a complex phenomenon that involves various stages such as\n",
      "drop deformation, spreading, and receding. The dynamics of the impact\n",
      "can be influenced by surface properties like roughness, porosity,\n",
      "wettability, temperature, and stiffness. High-speed drop impacts can\n",
      "lead to splashing phenomena, resulting in the generation of secondary\n",
      "droplets. The splashing mechanisms are described by the\n",
      "Rayleigh–Taylor instability of the accelerating liquid film, leading\n",
      "to different splashing regimes such as corona and prompt splash. The\n",
      "size, velocity, and volume of the ejected droplets can be affected by\n",
      "the impact conditions, with the Weber number weakly affecting the\n",
      "outcome compared to the Reynolds number. The study of high-speed drop\n",
      "impacts on surfaces is crucial for various technical applications,\n",
      "including vehicle soiling, aircraft icing, and additive manufacturing\n",
      "technologies.\n",
      "______________________________________________________________________\n",
      "Source Node 1/4\n",
      "Node ID: 3cbaeb28-8c3b-4642-a7a5-a7b1f6575b9a\n",
      "Similarity: 0.8825222200983994\n",
      "Text: 1 Introduction break-up of an emerging crown during the\n",
      "splashing on wetted surfaces has not been reported when the physical\n",
      "properties of the drop and ﬁlm are the same. Finally, the strong\n",
      "diﬀerences observed between the diﬀerent splashing regimes suggest\n",
      "that the governing physics are com- pletely diﬀerent in each case and\n",
      "cannot be uniﬁed int...\n",
      "______________________________________________________________________\n",
      "Source Node 2/4\n",
      "Node ID: 2a0b430e-56c0-4872-b42f-ac5fe89e153b\n",
      "Similarity: 0.8822428722588134\n",
      "Text: 1 Introduction The impact of liquid drops on dry and wetted\n",
      "solid surfaces are two common phenomena in nature, and the\n",
      "understanding of the physics underlying them is of fundamental\n",
      "importance in a wide variety of technical applications. On a global\n",
      "scale, the drop impact plays an im- portant role in processes\n",
      "occurring in the natural world. For...\n",
      "______________________________________________________________________\n",
      "Source Node 3/4\n",
      "Node ID: 0d1a5f99-18fa-4b2a-8f97-043e598b9e62\n",
      "Similarity: 0.8814872593149495\n",
      "Text: 3 Drop splashing on dry surfaces 3.1 Time evolution of an\n",
      "impacting drop The drop impact on dry smooth surfaces can be described\n",
      "in four fun- damental phases depending on the elapsed time: (1) Drop\n",
      "deformation and gas entrapment before contact with the surface, (2)\n",
      "ejection of a thin lamella with possible break-up into small secondary\n",
      "droplets,(...\n",
      "______________________________________________________________________\n",
      "Source Node 4/4\n",
      "Node ID: 9e7d1032-02f5-4674-89bd-23b4517bf457\n",
      "Similarity: 0.8747490163003155\n",
      "Text: 892A2-26 D. A. Burzynski, I. V . Roisman and S. E. Bansmer 5.\n",
      "Concluding remarks Our theoretical and experimental study reveals that\n",
      "a high-speed drop impact on dry surfaces is a complex three-\n",
      "dimensional phenomenon, where the geometry of the spreading liquid is\n",
      "always axisymmetric. However, the periodic disturbances on the thin\n",
      "lamella lead to ...\n"
     ]
    }
   ],
   "source": [
    "response = querying_read_from_storage(storage_dir=\"./storage\",index= index,query_engine=query_engine,query = \"What is the Impact of High-Speed Drops on Dry and Wetted Surfaces?\" )\n",
    "pprint_response(response,show_source= True)"
   ]
  },
  {
   "cell_type": "code",
   "execution_count": 8,
   "metadata": {},
   "outputs": [
    {
     "name": "stdout",
     "output_type": "stream",
     "text": [
      "Final Response: The impact of high-speed drops on dry surfaces differs\n",
      "from that on wetted surfaces. The study indicates that the physical\n",
      "properties of the drop and film being the same do not result in the\n",
      "break-up of an emerging crown during splashing on wetted surfaces.\n",
      "Additionally, the governing physics of the different splashing regimes\n",
      "suggest that they cannot be unified into one general theory,\n",
      "indicating distinct behaviors based on the surface conditions.\n",
      "______________________________________________________________________\n",
      "Source Node 1/4\n",
      "Node ID: 0d1a5f99-18fa-4b2a-8f97-043e598b9e62\n",
      "Similarity: 0.8759468484591265\n",
      "Text: 3 Drop splashing on dry surfaces 3.1 Time evolution of an\n",
      "impacting drop The drop impact on dry smooth surfaces can be described\n",
      "in four fun- damental phases depending on the elapsed time: (1) Drop\n",
      "deformation and gas entrapment before contact with the surface, (2)\n",
      "ejection of a thin lamella with possible break-up into small secondary\n",
      "droplets,(...\n",
      "______________________________________________________________________\n",
      "Source Node 2/4\n",
      "Node ID: 3cbaeb28-8c3b-4642-a7a5-a7b1f6575b9a\n",
      "Similarity: 0.8710505912486579\n",
      "Text: 1 Introduction break-up of an emerging crown during the\n",
      "splashing on wetted surfaces has not been reported when the physical\n",
      "properties of the drop and ﬁlm are the same. Finally, the strong\n",
      "diﬀerences observed between the diﬀerent splashing regimes suggest\n",
      "that the governing physics are com- pletely diﬀerent in each case and\n",
      "cannot be uniﬁed int...\n",
      "______________________________________________________________________\n",
      "Source Node 3/4\n",
      "Node ID: 67ce1f42-46b3-4620-828f-b317f3dccc21\n",
      "Similarity: 0.8700144963522153\n",
      "Text: 3 Drop splashing on dry surfaces boux and Gordillo, 2014).\n",
      "However, the analysis of the results obtained by Xu et al. (2005) and\n",
      "Palacios et al. (2013) shows that the splash- ing threshold tends to\n",
      "increase with the impact velocity, as shown in ﬁgure 3.8. Using\n",
      "machine learning algorithms Pierzyna et al. (2021) developed a data-\n",
      "driven splashing ...\n",
      "______________________________________________________________________\n",
      "Source Node 4/4\n",
      "Node ID: 9e7d1032-02f5-4674-89bd-23b4517bf457\n",
      "Similarity: 0.8659523237404277\n",
      "Text: 892A2-26 D. A. Burzynski, I. V . Roisman and S. E. Bansmer 5.\n",
      "Concluding remarks Our theoretical and experimental study reveals that\n",
      "a high-speed drop impact on dry surfaces is a complex three-\n",
      "dimensional phenomenon, where the geometry of the spreading liquid is\n",
      "always axisymmetric. However, the periodic disturbances on the thin\n",
      "lamella lead to ...\n"
     ]
    }
   ],
   "source": [
    "response = querying_read_from_storage(storage_dir=\"./storage\",index= index,query_engine=query_engine,query = \"Is the Impact of High-Speed Drops different on Dry surfaces than on Wetted Surfaces?\" )\n",
    "pprint_response(response,show_source= True)"
   ]
  }
 ],
 "metadata": {
  "kernelspec": {
   "display_name": "Python 3",
   "language": "python",
   "name": "python3"
  },
  "language_info": {
   "codemirror_mode": {
    "name": "ipython",
    "version": 3
   },
   "file_extension": ".py",
   "mimetype": "text/x-python",
   "name": "python",
   "nbconvert_exporter": "python",
   "pygments_lexer": "ipython3",
   "version": "3.9.19"
  }
 },
 "nbformat": 4,
 "nbformat_minor": 2
}
